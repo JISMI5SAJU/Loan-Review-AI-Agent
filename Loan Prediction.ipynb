{
 "cells": [
  {
   "cell_type": "code",
   "execution_count": 22,
   "id": "58958320-10b6-4e6f-a39e-22eada62975d",
   "metadata": {},
   "outputs": [],
   "source": [
    "demo_mode = True  # Set to False to use OpenAI API\n"
   ]
  },
  {
   "cell_type": "code",
   "execution_count": 3,
   "id": "95e563eb-fc6c-44bf-aa5c-9395f8048332",
   "metadata": {},
   "outputs": [
    {
     "name": "stdout",
     "output_type": "stream",
     "text": [
      "Requirement already satisfied: openai in c:\\users\\jismi\\appdata\\local\\programs\\python\\python313\\lib\\site-packages (1.97.1)\n",
      "Requirement already satisfied: anyio<5,>=3.5.0 in c:\\users\\jismi\\appdata\\local\\programs\\python\\python313\\lib\\site-packages (from openai) (4.9.0)\n",
      "Requirement already satisfied: distro<2,>=1.7.0 in c:\\users\\jismi\\appdata\\local\\programs\\python\\python313\\lib\\site-packages (from openai) (1.9.0)\n",
      "Requirement already satisfied: httpx<1,>=0.23.0 in c:\\users\\jismi\\appdata\\local\\programs\\python\\python313\\lib\\site-packages (from openai) (0.28.1)\n",
      "Requirement already satisfied: jiter<1,>=0.4.0 in c:\\users\\jismi\\appdata\\local\\programs\\python\\python313\\lib\\site-packages (from openai) (0.10.0)\n",
      "Requirement already satisfied: pydantic<3,>=1.9.0 in c:\\users\\jismi\\appdata\\local\\programs\\python\\python313\\lib\\site-packages (from openai) (2.11.7)\n",
      "Requirement already satisfied: sniffio in c:\\users\\jismi\\appdata\\local\\programs\\python\\python313\\lib\\site-packages (from openai) (1.3.1)\n",
      "Requirement already satisfied: tqdm>4 in c:\\users\\jismi\\appdata\\local\\programs\\python\\python313\\lib\\site-packages (from openai) (4.67.1)\n",
      "Requirement already satisfied: typing-extensions<5,>=4.11 in c:\\users\\jismi\\appdata\\local\\programs\\python\\python313\\lib\\site-packages (from openai) (4.14.0)\n",
      "Requirement already satisfied: idna>=2.8 in c:\\users\\jismi\\appdata\\local\\programs\\python\\python313\\lib\\site-packages (from anyio<5,>=3.5.0->openai) (3.10)\n",
      "Requirement already satisfied: certifi in c:\\users\\jismi\\appdata\\local\\programs\\python\\python313\\lib\\site-packages (from httpx<1,>=0.23.0->openai) (2025.6.15)\n",
      "Requirement already satisfied: httpcore==1.* in c:\\users\\jismi\\appdata\\local\\programs\\python\\python313\\lib\\site-packages (from httpx<1,>=0.23.0->openai) (1.0.9)\n",
      "Requirement already satisfied: h11>=0.16 in c:\\users\\jismi\\appdata\\local\\programs\\python\\python313\\lib\\site-packages (from httpcore==1.*->httpx<1,>=0.23.0->openai) (0.16.0)\n",
      "Requirement already satisfied: annotated-types>=0.6.0 in c:\\users\\jismi\\appdata\\local\\programs\\python\\python313\\lib\\site-packages (from pydantic<3,>=1.9.0->openai) (0.7.0)\n",
      "Requirement already satisfied: pydantic-core==2.33.2 in c:\\users\\jismi\\appdata\\local\\programs\\python\\python313\\lib\\site-packages (from pydantic<3,>=1.9.0->openai) (2.33.2)\n",
      "Requirement already satisfied: typing-inspection>=0.4.0 in c:\\users\\jismi\\appdata\\local\\programs\\python\\python313\\lib\\site-packages (from pydantic<3,>=1.9.0->openai) (0.4.1)\n",
      "Requirement already satisfied: colorama in c:\\users\\jismi\\appdata\\local\\programs\\python\\python313\\lib\\site-packages (from tqdm>4->openai) (0.4.6)\n"
     ]
    }
   ],
   "source": [
    "!pip install openai\n"
   ]
  },
  {
   "cell_type": "code",
   "execution_count": 18,
   "id": "5fb089de-0217-47ba-9cd5-6887c4d16175",
   "metadata": {},
   "outputs": [],
   "source": [
    "import openai\n",
    "\n",
    "client = openai.OpenAI(api_key=\"YOUR_OPENAI_API_KEY\")"
   ]
  },
  {
   "cell_type": "code",
   "execution_count": 19,
   "id": "8b776318-4d32-4183-8662-d0321af34a67",
   "metadata": {},
   "outputs": [],
   "source": [
    "import pandas as pd\n",
    "df = pd.read_csv('Loan_Prediction.csv')"
   ]
  },
  {
   "cell_type": "code",
   "execution_count": 20,
   "id": "296522e3-8b0a-411e-924b-68a2b587cc9c",
   "metadata": {},
   "outputs": [],
   "source": [
    "def create_data_summary(df):\n",
    "    summary = f\"The dataset has {df.shape[0]} rows and {df.shape[1]} columns.\\n\"\n",
    "    summary += \"Columns:\\n\"\n",
    "    for col in df.columns:\n",
    "        summary += f\"- {col} (type: {df[col].dtype})\\n\"\n",
    "    return summary\n"
   ]
  },
  {
   "cell_type": "code",
   "execution_count": 23,
   "id": "185c0031-f044-4b4e-b053-5bb87d953afd",
   "metadata": {},
   "outputs": [],
   "source": [
    "def ai_agent(user_query, df):\n",
    "    data_context = create_data_summary(df)\n",
    "\n",
    "    # Simulated response for demo mode\n",
    "    if demo_mode:\n",
    "        if \"average loan amount\" in user_query.lower():\n",
    "            avg = df[\"LoanAmount\"].mean()\n",
    "            return f\"The average loan amount applied for is ₹{avg:.2f}.\"\n",
    "        elif \"how many applicants\" in user_query.lower() and \"approved\" in user_query.lower():\n",
    "            count = df[df[\"Loan_Status\"] == \"Y\"].shape[0]\n",
    "            return f\"{count} applicants were approved for loans.\"\n",
    "        else:\n",
    "            return \"This is a demo response. Enable API mode for full AI capabilities.\"\n",
    "\n",
    "    # Real OpenAI API call\n",
    "    prompt = f\"\"\"\n",
    "You are a data expert AI agent.\n",
    "\n",
    "Here is a description of the dataset:\n",
    "{data_context}\n",
    "\n",
    "Now answer the following user question:\n",
    "{user_query}\n",
    "\n",
    "Give a clear, final answer.\n",
    "    \"\"\"\n",
    "\n",
    "    response = client.chat.completions.create(\n",
    "        model=\"gpt-4o\",\n",
    "        messages=[{\"role\": \"user\", \"content\": prompt}],\n",
    "        temperature=0.2,\n",
    "        max_tokens=500\n",
    "    )\n",
    "    answer = response.choices[0].message.content\n",
    "    return answer\n"
   ]
  },
  {
   "cell_type": "code",
   "execution_count": null,
   "id": "6af956bc-956d-416f-9047-77d52bc4be0b",
   "metadata": {},
   "outputs": [
    {
     "name": "stdout",
     "output_type": "stream",
     "text": [
      "Welcome to Loan Review AI Agent!\n",
      "You can ask anything about the loan applicants data.\n",
      "Type 'exit' to quit.\n"
     ]
    },
    {
     "name": "stdin",
     "output_type": "stream",
     "text": [
      "\n",
      "Your question:  What is the average loan amount applied for by all applicants?\n"
     ]
    },
    {
     "name": "stdout",
     "output_type": "stream",
     "text": [
      "\n",
      "AI Agent Response:\n",
      "The average loan amount applied for is ₹146.41.\n"
     ]
    },
    {
     "name": "stdin",
     "output_type": "stream",
     "text": [
      "\n",
      "Your question:  What is the maximum loan amount given?\n"
     ]
    },
    {
     "name": "stdout",
     "output_type": "stream",
     "text": [
      "\n",
      "AI Agent Response:\n",
      "This is a demo response. Enable API mode for full AI capabilities.\n"
     ]
    },
    {
     "name": "stdin",
     "output_type": "stream",
     "text": [
      "\n",
      "Your question:  How many applicants were approved?\n"
     ]
    },
    {
     "name": "stdout",
     "output_type": "stream",
     "text": [
      "\n",
      "AI Agent Response:\n",
      "422 applicants were approved for loans.\n"
     ]
    },
    {
     "name": "stdin",
     "output_type": "stream",
     "text": [
      "\n",
      "Your question:  How many total applicants are there?\n"
     ]
    },
    {
     "name": "stdout",
     "output_type": "stream",
     "text": [
      "\n",
      "AI Agent Response:\n",
      "This is a demo response. Enable API mode for full AI capabilities.\n"
     ]
    },
    {
     "name": "stdin",
     "output_type": "stream",
     "text": [
      "\n",
      "Your question:  Give me a summary of the dataset.\n"
     ]
    },
    {
     "name": "stdout",
     "output_type": "stream",
     "text": [
      "\n",
      "AI Agent Response:\n",
      "This is a demo response. Enable API mode for full AI capabilities.\n"
     ]
    }
   ],
   "source": [
    "print(\"Welcome to Loan Review AI Agent!\")\n",
    "print(\"You can ask anything about the loan applicants data.\")\n",
    "print(\"Type 'exit' to quit.\")\n",
    "\n",
    "while True:\n",
    "    user_input = input(\"\\nYour question: \")\n",
    "    if user_input.lower() == \"exit\":\n",
    "        break\n",
    "    response = ai_agent(user_input, df)\n",
    "    print(\"\\nAI Agent Response:\")\n",
    "    print(response)\n"
   ]
  },
  {
   "cell_type": "code",
   "execution_count": null,
   "id": "8a475706-8fe5-4df8-a17e-c380a7ae8866",
   "metadata": {},
   "outputs": [],
   "source": []
  }
 ],
 "metadata": {
  "kernelspec": {
   "display_name": "Python 3 (ipykernel)",
   "language": "python",
   "name": "python3"
  },
  "language_info": {
   "codemirror_mode": {
    "name": "ipython",
    "version": 3
   },
   "file_extension": ".py",
   "mimetype": "text/x-python",
   "name": "python",
   "nbconvert_exporter": "python",
   "pygments_lexer": "ipython3",
   "version": "3.13.5"
  }
 },
 "nbformat": 4,
 "nbformat_minor": 5
}
